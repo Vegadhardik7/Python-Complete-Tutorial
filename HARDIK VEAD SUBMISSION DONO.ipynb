{
 "cells": [
  {
   "cell_type": "markdown",
   "id": "683c83ab",
   "metadata": {},
   "source": [
    "**1. How many matches are played in a round robin sports tournament with n teams where each team plays the other team and top two go on to play the finals?**"
   ]
  },
  {
   "cell_type": "markdown",
   "id": "15dc0c3c",
   "metadata": {},
   "source": [
    "In a Round-Robin tournament, we will have a total nC2 matches. \n",
    "\n",
    "For example, if there are 10 teams in a round-robin tournament and given that each team has to play with each other team exactly once then total number of matches (for a particular round) are nC2= 10C2= 45."
   ]
  },
  {
   "cell_type": "markdown",
   "id": "237286cb",
   "metadata": {},
   "source": [
    "**2. A coaching institute teaches only standard 10th students for 3 subjects - Physics, Chemistry and\n",
    "Mathematics. It has 3 periods every day one for each subject. It has 5 sections. What is the\n",
    "minimum number of teachers required to teach in that institute Assume one teacher can teach\n",
    "only one subject**"
   ]
  },
  {
   "cell_type": "markdown",
   "id": "9b7bb817",
   "metadata": {},
   "source": [
    "In one section at a time only 1 teach can teach, so 3 teachers are occupied in 3 section, now 2 for remaining 2 sections we need 2 teachers so total 5 teachers are required and all 5 teacher will keep on rotating accross the sections."
   ]
  },
  {
   "cell_type": "markdown",
   "id": "31f0ad16",
   "metadata": {},
   "source": [
    "**3. How many bytes are required to store a number between 1 - 1000000 (1 million)**"
   ]
  },
  {
   "cell_type": "markdown",
   "id": "4656e729",
   "metadata": {},
   "source": [
    "125KB"
   ]
  },
  {
   "cell_type": "markdown",
   "id": "e8300557",
   "metadata": {},
   "source": [
    "**4. A serial network contains message relay system that goes from: A -&gt; B -&gt; C -&gt; D\n",
    "At each point failure probability is 0.1, what is the probability that the message reached\n",
    "successfully to D**"
   ]
  },
  {
   "cell_type": "markdown",
   "id": "53a88099",
   "metadata": {},
   "source": [
    "Probability of 0.9 * 0.9 * 0.9 = 0.729"
   ]
  },
  {
   "cell_type": "markdown",
   "id": "e76be44b",
   "metadata": {},
   "source": [
    "**5. In a database there are 2 tables. Table1 contains name, age, Table2 contains name, salary.\n",
    "Write sql query to find the person with the highest age to salary ratio**"
   ]
  },
  {
   "cell_type": "markdown",
   "id": "e3e36550",
   "metadata": {},
   "source": [
    "SELECT name, age, \n",
    "name, salary FROM Table2\n",
    "INNER JOIN Table1\n",
    "ON Table1.name = Table2.name\n",
    "GROUP BY Table1.age\n",
    "ORDER BY AVG(Table2.salary) DESC;"
   ]
  },
  {
   "cell_type": "markdown",
   "id": "dbe3db8c",
   "metadata": {},
   "source": [
    "**6. Write a shell script to find files greater than 1MB in a directory**"
   ]
  },
  {
   "cell_type": "markdown",
   "id": "f8e69c94",
   "metadata": {},
   "source": [
    "find /dir -name '*' -size +1M"
   ]
  },
  {
   "cell_type": "markdown",
   "id": "c9ac14c0",
   "metadata": {},
   "source": [
    "**7. Write a piece of code to count the number of words in a file**"
   ]
  },
  {
   "cell_type": "code",
   "execution_count": null,
   "id": "2369986c",
   "metadata": {},
   "outputs": [],
   "source": [
    "number_of_words = 0\n",
    "with open(r'File.txt','r') as file:\n",
    "    data = file.read()\n",
    "    lines = data.split()\n",
    "    number_of_words += len(lines)\n",
    "print(number_of_words)"
   ]
  },
  {
   "cell_type": "markdown",
   "id": "5764cb4d",
   "metadata": {},
   "source": [
    "**8. Write a pseudo code that will create a deadlock always**"
   ]
  },
  {
   "cell_type": "code",
   "execution_count": 1,
   "id": "949303bb",
   "metadata": {},
   "outputs": [
    {
     "name": "stdout",
     "output_type": "stream",
     "text": [
      "thread t1 about to lock l1\n",
      "thread t1 has lock l1\n",
      "thread t2 about to lock l2\n",
      "thread t2 has lock l2\n",
      "thread t1 about to lock l2\n",
      "thread t2 about to lock l1\n"
     ]
    }
   ],
   "source": [
    "import threading\n",
    "import time\n",
    "\n",
    "l1=threading.Lock()\n",
    "l2 = threading.Lock()\n",
    "\n",
    "def f1(name):\n",
    "    print('thread',name,'about to lock l1')\n",
    "    with l1:\n",
    "        print('thread',name,'has lock l1')\n",
    "        time.sleep(0.3)\n",
    "        print('thread',name,'about to lock l2')\n",
    "        with l2:\n",
    "            print('thread',name,'run into deadLock,\\nthis line will never run')\n",
    "\n",
    "def f2(name):\n",
    "    print('thread',name,'about to lock l2')\n",
    "    with l2:\n",
    "        print('thread',name,'has lock l2')\n",
    "        time.sleep(0.3)\n",
    "        print('thread',name,'about to lock l1')\n",
    "        with l1:\n",
    "            print('thread',name,'run into deadLock,\\nthis line will never run')\n",
    "\n",
    "if __name__ == '__main__':\n",
    "    t1=threading.Thread(target=f1, args=['t1',])\n",
    "    t2=threading.Thread(target=f2, args=['t2',])\n",
    "\n",
    "    t1.start()\n",
    "    t2.start()"
   ]
  },
  {
   "cell_type": "markdown",
   "id": "d438eab2",
   "metadata": {},
   "source": [
    "**9. The formula for finding mean is Sum(x) / n. Write a mean implementation that can be\n",
    "parallelized**"
   ]
  },
  {
   "cell_type": "code",
   "execution_count": 4,
   "id": "510f052d",
   "metadata": {},
   "outputs": [
    {
     "data": {
      "text/plain": [
       "2.5"
      ]
     },
     "execution_count": 4,
     "metadata": {},
     "output_type": "execute_result"
    }
   ],
   "source": [
    "def valueMeans(*data):\n",
    "    sums = 0\n",
    " \n",
    "    for i in data:\n",
    "        sums = sums + i\n",
    " \n",
    "    avg = sums / len(data)\n",
    "    return avg\n",
    "\n",
    "valueMeans(1,2,3,4)"
   ]
  },
  {
   "cell_type": "markdown",
   "id": "dada4451",
   "metadata": {},
   "source": [
    "**10. In an array of n integers print the sequence of k numbers with maximum sum e.g.\n",
    "array is [1, 3, 5, 2, 6, 8, 4], k = 3 then 6, 8, 4 is the sequence with maximum sum of 18**"
   ]
  },
  {
   "cell_type": "code",
   "execution_count": 10,
   "id": "5d38c0ff",
   "metadata": {},
   "outputs": [
    {
     "data": {
      "text/plain": [
       "18"
      ]
     },
     "execution_count": 10,
     "metadata": {},
     "output_type": "execute_result"
    }
   ],
   "source": [
    "# sliding window technqiue\n",
    "def getMaxValueOfLenK(data, win_size):\n",
    "    sub = sum(data[:win_size])\n",
    "    res=[sub]\n",
    "    \n",
    "    for i in range(1,len(data)-win_size+1):\n",
    "        sub -= data[i-1]\n",
    "        sub += data[i+win_size-1]\n",
    "        res.append(sub)\n",
    "    return(max(res))\n",
    "\n",
    "getMaxValueOfLenK([1, 3, 5, 2, 6, 8, 4], 3)"
   ]
  },
  {
   "cell_type": "markdown",
   "id": "548b6b4c",
   "metadata": {},
   "source": [
    "**11. Write a program to print if an input number is power of 3. Without using any maths library**"
   ]
  },
  {
   "cell_type": "code",
   "execution_count": 12,
   "id": "fab847e5",
   "metadata": {},
   "outputs": [
    {
     "name": "stdout",
     "output_type": "stream",
     "text": [
      "No\n"
     ]
    }
   ],
   "source": [
    "def isPower_of_Three(n):\n",
    " \n",
    "    if (n <= 0):\n",
    "        return False\n",
    "    if (n % 3 == 0):\n",
    "        return isPower_of_Three(n // 3)\n",
    "    if (n == 1):\n",
    "        return True\n",
    "    return False\n",
    " \n",
    " # Driver code\n",
    "num1 = 6\n",
    "if (isPower_of_Three(num1)):\n",
    "    print(\"Yes\")\n",
    "else:\n",
    "    print(\"No\")"
   ]
  },
  {
   "cell_type": "markdown",
   "id": "a9459c37",
   "metadata": {},
   "source": [
    "**12. Write a program to read a file and print the number of sentences in the file. Each sentence\n",
    "can be ending with. Fullstop, semicolon or newline**"
   ]
  },
  {
   "cell_type": "code",
   "execution_count": 14,
   "id": "f1d87740",
   "metadata": {},
   "outputs": [
    {
     "data": {
      "text/plain": [
       "\"Narendra Damodardas Modi (Gujarati: [ˈnəɾendɾə dɑmodəɾˈdɑs ˈmodiː] (listen); born 17 September 1950)[a] is an Indian politician serving as the 14th and current prime minister of India since 2014. Modi was the chief minister of Gujarat from 2001 to 2014 and is the Member of Parliament from Varanasi. He is a member of the Bharatiya Janata Party (BJP) and of the Rashtriya Swayamsevak Sangh (RSS), a right-wing Hindu nationalist paramilitary volunteer organisation. He is the first prime minister to have been born after India's independence in 1947 and the second prime minister not belonging to the Indian National Congress to have won two consecutive majorities in the Lok Sabha, or the lower house of India's parliament. He is also the longest serving prime minister from a non-Congress party.\\n\\nBorn and raised in Vadnagar, a small town in northeastern Gujarat, Modi completed his secondary education there. He was introduced to the RSS at age eight. He has drawn attention to having to work as a child in his father's tea stall on the Vadnagar railway station platform, a description that has not been reliably corroborated. At age 18, Modi was married to Jashodaben Chimanlal Modi, whom he abandoned soon after. He left his parental home where she had come to live. He first publicly acknowledged her as his wife more than four decades later when required to do so by Indian law, but has made no contact with her since. Modi has asserted he had travelled in northern India for two years after leaving his parental home, visiting a number of religious centres, but few details of his travels have emerged. Upon his return to Gujarat in 1971, he became a full-time worker for the RSS. After the state of emergency was declared by prime minister Indira Gandhi in 1975, Modi went into hiding. The RSS assigned him to the BJP in 1985 and he held several positions within the party hierarchy until 2001, rising to the rank of general secretary.\""
      ]
     },
     "execution_count": 14,
     "metadata": {},
     "output_type": "execute_result"
    }
   ],
   "source": [
    "sentences = \"\"\"Narendra Damodardas Modi (Gujarati: [ˈnəɾendɾə dɑmodəɾˈdɑs ˈmodiː] (listen); born 17 September 1950)[a] is an Indian politician serving as the 14th and current prime minister of India since 2014. Modi was the chief minister of Gujarat from 2001 to 2014 and is the Member of Parliament from Varanasi. He is a member of the Bharatiya Janata Party (BJP) and of the Rashtriya Swayamsevak Sangh (RSS), a right-wing Hindu nationalist paramilitary volunteer organisation. He is the first prime minister to have been born after India's independence in 1947 and the second prime minister not belonging to the Indian National Congress to have won two consecutive majorities in the Lok Sabha, or the lower house of India's parliament. He is also the longest serving prime minister from a non-Congress party.\n",
    "\n",
    "Born and raised in Vadnagar, a small town in northeastern Gujarat, Modi completed his secondary education there. He was introduced to the RSS at age eight. He has drawn attention to having to work as a child in his father's tea stall on the Vadnagar railway station platform, a description that has not been reliably corroborated. At age 18, Modi was married to Jashodaben Chimanlal Modi, whom he abandoned soon after. He left his parental home where she had come to live. He first publicly acknowledged her as his wife more than four decades later when required to do so by Indian law, but has made no contact with her since. Modi has asserted he had travelled in northern India for two years after leaving his parental home, visiting a number of religious centres, but few details of his travels have emerged. Upon his return to Gujarat in 1971, he became a full-time worker for the RSS. After the state of emergency was declared by prime minister Indira Gandhi in 1975, Modi went into hiding. The RSS assigned him to the BJP in 1985 and he held several positions within the party hierarchy until 2001, rising to the rank of general secretary.\"\"\"\n",
    "\n",
    "sentences"
   ]
  },
  {
   "cell_type": "code",
   "execution_count": 46,
   "id": "a1df8e95",
   "metadata": {},
   "outputs": [
    {
     "data": {
      "text/plain": [
       "['Narendra Damodardas Modi (Gujarati: [ˈnəɾendɾə dɑmodəɾˈdɑs ˈmodiː] (listen)',\n",
       " 'born 17 September 1950)[a] is an Indian politician serving as the 14th and current prime minister of India since 2014',\n",
       " 'Modi was the chief minister of Gujarat from 2001 to 2014 and is the Member of Parliament from Varanasi',\n",
       " 'He is a member of the Bharatiya Janata Party (BJP) and of the Rashtriya Swayamsevak Sangh (RSS)',\n",
       " 'a right-wing Hindu nationalist paramilitary volunteer organisation',\n",
       " \"He is the first prime minister to have been born after India's independence in 1947 and the second prime minister not belonging to the Indian National Congress to have won two consecutive majorities in the Lok Sabha\",\n",
       " \"or the lower house of India's parliament\",\n",
       " 'He is also the longest serving prime minister from a non-Congress party.\\n\\nBorn and raised in Vadnagar',\n",
       " 'a small town in northeastern Gujarat',\n",
       " 'Modi completed his secondary education there',\n",
       " 'He was introduced to the RSS at age eight',\n",
       " \"He has drawn attention to having to work as a child in his father's tea stall on the Vadnagar railway station platform\",\n",
       " 'a description that has not been reliably corroborated',\n",
       " 'At age 18',\n",
       " 'Modi was married to Jashodaben Chimanlal Modi',\n",
       " 'whom he abandoned soon after',\n",
       " 'He left his parental home where she had come to live',\n",
       " 'He first publicly acknowledged her as his wife more than four decades later when required to do so by Indian law',\n",
       " 'but has made no contact with her since',\n",
       " 'Modi has asserted he had travelled in northern India for two years after leaving his parental home',\n",
       " 'visiting a number of religious centres',\n",
       " 'but few details of his travels have emerged',\n",
       " 'Upon his return to Gujarat in 1971',\n",
       " 'he became a full-time worker for the RSS',\n",
       " 'After the state of emergency was declared by prime minister Indira Gandhi in 1975',\n",
       " 'Modi went into hiding',\n",
       " 'The RSS assigned him to the BJP in 1985 and he held several positions within the party hierarchy until 2001',\n",
       " 'rising to the rank of general secretary.']"
      ]
     },
     "execution_count": 46,
     "metadata": {},
     "output_type": "execute_result"
    }
   ],
   "source": [
    "import re\n",
    "re.split('; |, |\\. ', sentences)"
   ]
  },
  {
   "cell_type": "markdown",
   "id": "bb29b86d",
   "metadata": {},
   "source": [
    "**Write a program to print moving an average of a list of k numbers. Exclude negative numbers.**"
   ]
  },
  {
   "cell_type": "code",
   "execution_count": 49,
   "id": "ec65bf02",
   "metadata": {},
   "outputs": [
    {
     "data": {
      "text/plain": [
       "[3, 5, 7]"
      ]
     },
     "execution_count": 49,
     "metadata": {},
     "output_type": "execute_result"
    }
   ],
   "source": [
    "def movingAVG(data, win_size):\n",
    "    data = [i for i in data if i>0]\n",
    "    sub = sum(data[:win_size])\n",
    "    res=[sub]\n",
    "    \n",
    "    for i in range(1,len(data)-win_size+1):\n",
    "        sub -= data[i-1]\n",
    "        sub += data[i+win_size-1]\n",
    "        res.append(sub)\n",
    "    return res\n",
    "\n",
    "movingAVG([1,2,3,-1,4],2)"
   ]
  }
 ],
 "metadata": {
  "kernelspec": {
   "display_name": "Python 3 (ipykernel)",
   "language": "python",
   "name": "python3"
  },
  "language_info": {
   "codemirror_mode": {
    "name": "ipython",
    "version": 3
   },
   "file_extension": ".py",
   "mimetype": "text/x-python",
   "name": "python",
   "nbconvert_exporter": "python",
   "pygments_lexer": "ipython3",
   "version": "3.8.8"
  }
 },
 "nbformat": 4,
 "nbformat_minor": 5
}
